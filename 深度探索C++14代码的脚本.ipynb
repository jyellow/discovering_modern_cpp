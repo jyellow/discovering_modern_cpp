{
 "cells": [
  {
   "cell_type": "code",
   "execution_count": null,
   "metadata": {
    "id": "8001cc12"
   },
   "outputs": [],
   "source": [
    "import os\n",
    "import sys\n",
    "\n",
    "folder_name = \"discovering_modern_cpp\"\n",
    "colab_flag = False\n",
    "# 判断是否在 Google Colab 环境中运行\n",
    "if 'google.colab' in sys.modules:\n",
    "  colab_flag = True\n",
    "  if not os.path.exists(folder_name):\n",
    "    !git clone https://github.com/jyellow/discovering_modern_cpp\n",
    "  else:\n",
    "    print(f\"Folder '{folder_name}' already exists.\")\n",
    "else:\n",
    "  # 在本地macOS环境\n",
    "  # TODO: 目前使用GitHub Desktop的默认仓库路径，后续修改为针对Jupyter Notebook的相对路径\n",
    "  github_desktop_path = os.path.expanduser(\"~/Documents/GitHub/\")\n",
    "  folder_path = os.path.join(github_desktop_path, folder_name)\n",
    "  if not os.path.exists(folder_path):\n",
    "    print(f\"Folder '{folder_path}' does not exist. Clone the repository manually in github.\")\n",
    "    !git clone https://github.com/jyellow/discovering_modern_cpp\n",
    "  else:\n",
    "    print(f\"Folder '{folder_name}' found at '{folder_path}'.\")"
   ]
  },
  {
   "cell_type": "markdown",
   "metadata": {
    "id": "EVu_XrLVrcWF"
   },
   "source": [
    "## 简单的测试一下通过Google Colab运行C++代码的可用性"
   ]
  },
  {
   "cell_type": "code",
   "execution_count": null,
   "metadata": {
    "id": "40bef8be"
   },
   "outputs": [],
   "source": [
    "if not colab_flag:\n",
    "  # 本地环境\n",
    "  %cd ~/Documents/GitHub\n",
    "%cd discovering_modern_cpp/c++03/"
   ]
  },
  {
   "cell_type": "code",
   "execution_count": null,
   "metadata": {
    "id": "LWGZX6tMnjzI"
   },
   "outputs": [],
   "source": [
    "# %cd ../"
   ]
  },
  {
   "cell_type": "code",
   "execution_count": null,
   "metadata": {
    "id": "5ea896bd"
   },
   "outputs": [],
   "source": [
    "!pwd"
   ]
  },
  {
   "cell_type": "code",
   "execution_count": null,
   "metadata": {
    "id": "dbRWAIltFU9T"
   },
   "outputs": [],
   "source": [
    "# 查看项目的原始Makefile文件\n",
    "!cat makefile"
   ]
  },
  {
   "cell_type": "code",
   "execution_count": null,
   "metadata": {
    "id": "pWcIvTZ0Fb3z"
   },
   "outputs": [],
   "source": [
    "if colab_flag:\n",
    "  # 在Colab环境中，重命名Makefile为makefile.bak.txt\n",
    "  print(\"将当前环境下的Makefile文件备份为makefile.bak.txt\")\n",
    "  !cp makefile makefile.bak.txt\n",
    "else:\n",
    "  # 本地环境执行过一次以后就不需要再执行了\n",
    "  if os.path.isfile(\"makefile.bak.txt\"):\n",
    "    print(\"本地环境的原始Makefile文件已被重命名为makefile.bak.txt，不再需要执行重命名操作。\")\n",
    "  else:\n",
    "    print(\"将当前环境下的Makefile文件备份为makefile.bak.txt\")\n",
    "    !cp makefile makefile.bak.txt"
   ]
  },
  {
   "cell_type": "code",
   "execution_count": null,
   "metadata": {
    "id": "XOYK-C_bmlv0"
   },
   "outputs": [],
   "source": [
    "%%writefile Makefile\n",
    "\n",
    "ALLEXE =\n",
    "#CXX= g++-4.4\n",
    "#CXX= g++-4.8\n",
    "#CXX= clang++-3.4\n",
    "#CXX= mpiCC\n",
    "# Google Colab环境没有默认安装Boost库\n",
    "#CXXFLAGS+=  -I${BOOST_ROOT}\n",
    "#CXXFLAGS+=  -I${MTL}\n",
    "CXXFLAGS+= -Wall -pedantic\n",
    "#CXXFLAGS+= -w               # no warnings at all\n",
    "\n",
    "CXXFLAGS+= -Wall -g -O0\n",
    "#CXXFLAGS+= -Wall -O3 -DNDEBUG -ffast-math\n",
    "CXXFLAGS+= -funroll-loops\n",
    "#CXXFLAGS+= -L/usr/local/lib -lboost_mpi-gcc41-mt -lboost_serialization-gcc41-mt # for boost::mpi\n",
    "#CXXFLAGS+= -L/home/pgottsch/projects/boost/boost_1_38_0/bin.v2/libs/mpi/build/gcc-4.3.3/release/link-static/threading-multi -lboost_mpi -L/home/pgottsch/projects/boost/boost_1_38_0/bin.v2/libs/serialization/build/gcc-4.3.3/release/link-static/threading-multi -lboost_serialization # for boost::mpi\n",
    "\n",
    "# For OCCI example\n",
    "# CXXFLAGS+=  -I/u01/app/oracle/product/11.2.0/xe/rdbms/public\n",
    "# LOADLIBES+=   -L/u01/app/oracle/product/11.2.0/xe/lib/\n",
    "# LOADLIBES+=   -locci -lclntsh\n",
    "#### needs: # export LD_LIBRARY_PATH=${LD_LIBRARY_PATH}:/u01/app/oracle/product/11.2.0/xe/lib\n",
    "\n",
    "# 由于本地的macOS不支持静态编译，而Google Colab环境是Linux环境，支持静态编译\n",
    "# 因此需要通过uname命令判断操作系统类型，从而设置静态链接标志\n",
    "UNAME_S := $(shell uname -s)\n",
    "\n",
    "\n",
    "ifeq ($(UNAME_S),Darwin)\n",
    "    # macOS 不支持静态链接\n",
    "    STATIC_FLAG =\n",
    "    # macOS环境下将编译二进制文件的目录设置为上级目录的build文件夹\n",
    "    # 从而能够统一管理编译生成的二进制文件\n",
    "    BUILD_DIR = ../build\n",
    "else\n",
    "    # Linux 支持静态链接\n",
    "    STATIC_FLAG = -static\n",
    "    # Google Colab环境不需要特殊处理编译二进制文件的目录\n",
    "    BUILD_DIR = .\n",
    "endif\n",
    "\n",
    "\n",
    "# 注意：Makefile的构建命令行之前必须使用Tab键缩进，而不是空格键\n",
    "# 否则会抛出错误：missing separator\n",
    "\n",
    "static_main:\tstatic_main.cpp static_f.cpp\n",
    "\tg++ static_main.cpp static_f.cpp -o $(BUILD_DIR)/static_main\n",
    "\n",
    "vector_test:\tvector_test.cpp\n",
    "\tg++ vector_test.cpp -o $(BUILD_DIR)/vector_test $(STATIC_FLAG)\n",
    "\n",
    "clean:\n",
    "\trm -f $(BUILD_DIR)/static_main $(BUILD_DIR)/vector_test\n"
   ]
  },
  {
   "cell_type": "markdown",
   "metadata": {
    "id": "49oIsE8Aobl7"
   },
   "source": [
    "测试运行Makefile文件中的内容"
   ]
  },
  {
   "cell_type": "code",
   "execution_count": null,
   "metadata": {
    "id": "ESYuA92UoZ-l"
   },
   "outputs": [],
   "source": [
    "!make vector_test\n",
    "!make static_main"
   ]
  },
  {
   "cell_type": "code",
   "execution_count": null,
   "metadata": {
    "id": "EEmRZRhEogG_"
   },
   "outputs": [],
   "source": [
    "!../build/vector_test"
   ]
  },
  {
   "cell_type": "code",
   "execution_count": null,
   "metadata": {},
   "outputs": [],
   "source": [
    "!../build/static_main"
   ]
  },
  {
   "cell_type": "code",
   "execution_count": null,
   "metadata": {
    "id": "ux3VCB4XolDd"
   },
   "outputs": [],
   "source": [
    "!make clean"
   ]
  },
  {
   "cell_type": "markdown",
   "metadata": {
    "id": "MRjPeKMKsT98"
   },
   "source": [
    "## C++ 11"
   ]
  },
  {
   "cell_type": "code",
   "execution_count": null,
   "metadata": {
    "id": "0eELzZB4rfFE"
   },
   "outputs": [],
   "source": [
    "!whereis g++"
   ]
  },
  {
   "cell_type": "code",
   "execution_count": null,
   "metadata": {
    "id": "CNcWj4Lps6nK"
   },
   "outputs": [],
   "source": [
    "# 切换到discovering_modern_cpp/c++11/目录\n",
    "if colab_flag:\n",
    "  # 在Google Colab环境中，切换到discovering_modern_cpp/c++11/目录\n",
    "  %cd /content/\n",
    "  %cd discovering_modern_cpp/c++11/\n",
    "else:\n",
    "  # 在本地环境中\n",
    "  %cd ~/Documents/GitHub/\n",
    "  %cd discovering_modern_cpp/c++11/"
   ]
  },
  {
   "cell_type": "code",
   "execution_count": null,
   "metadata": {},
   "outputs": [],
   "source": [
    "!pwd"
   ]
  },
  {
   "cell_type": "code",
   "execution_count": null,
   "metadata": {},
   "outputs": [],
   "source": [
    "print(colab_flag)\n",
    "if colab_flag:\n",
    "  # 在Colab环境中，重命名Makefile为makefile.bak.txt\n",
    "  print(\"将当前环境下的Makefile文件备份为makefile.bak.txt\")\n",
    "  !cp makefile makefile.bak.txt\n",
    "else:\n",
    "  # 本地环境执行过一次以后就不需要再执行了\n",
    "  if os.path.isfile(\"makefile.bak.txt\"):\n",
    "    print(\"本地环境的原始Makefile文件已被重命名为makefile.bak.txt，不再需要执行重命名操作。\")\n",
    "  else:\n",
    "    print(\"将当前环境下的Makefile文件备份为makefile.bak.txt\")\n",
    "    !cp makefile makefile.bak.txt"
   ]
  },
  {
   "cell_type": "code",
   "execution_count": null,
   "metadata": {
    "id": "Osat0egQtElX"
   },
   "outputs": [],
   "source": [
    "%%writefile Makefile\n",
    "BUGGY  = 'variadic_sum_left' # separate by \\|\n",
    "ALLEXE = $(shell ls *.cpp | sed -e 's/\\.cpp//'| grep -v ${BUGGY})\n",
    "\n",
    "\n",
    "# optional flags\n",
    "#CXXFLAGS+=  -I${BOOST_ROOT}\n",
    "#CXXFLAGS+= -Wall -pedantic -Wno-unused-variable\n",
    "# CXXFLAGS+= -m32\n",
    " # CXXFLAGS+= -Wno-missing-braces # affects only clang++, ignored by g++\n",
    "#CXXFLAGS+= -Wno-c++11-narrowing\n",
    "CXXFLAGS+= -g -O0\n",
    "#CXXFLAGS+= -O3 -DNDEBUG\n",
    "#CXXFLAGS+= -ffast-math\n",
    "#CXXFLAGS+= -funroll-loops\n",
    "# CXXFLAGS+= -v # really verbose\n",
    "#CXXFLAGS+= -I/home/pgottsch/projects/boost/boost_1_55_0\n",
    "CXXFLAGS+= -I${MTL}\n",
    "#CXXFLAGS+= -I/home/pgottsch/projects/mtl4-branches/pro\n",
    "CXXFLAGS+= -DMTL_WITH_INITLIST -DMTL_WITH_AUTO -DMTL_WITH_RANGEDFOR -DMTL_WITH_VARIADIC_TEMPLATE\n",
    "CXXFLAGS+= -DMTL_WITH_DEFAULTIMPL -DMTL_WITH_TEMPLATE_ALIAS -DMTL_WITH_STATICASSERT -DMTL_WITH_MOVE\n",
    "#CXXFLAGS+= -Wno-unused-local-typedefs\n",
    "\n",
    "# for the OCCI example\n",
    "# CXXFLAGS+=  -I/u01/app/oracle/product/11.2.0/xe/rdbms/public\n",
    "# LOADLIBES+=   -L/u01/app/oracle/product/11.2.0/xe/lib/\n",
    "# LOADLIBES+=   -locci -lclntsh -lnnz11\n",
    "#### needs: # export LD_LIBRARY_PATH=${LD_LIBRARY_PATH}:/u01/app/oracle/product/11.2.0/xe/lib\n",
    "\n",
    "# turn on C++11\n",
    "# CXXFLAGS+= -std=c++14 # for quick experiments\n",
    "CXXFLAGS+= -std=c++11\n",
    "# CXXFLAGS+= -std=c++0x\n",
    "\n",
    "# library must be indicated  with clang <= 3.2\n",
    "# CXXFLAGS+= -stdlib=libc++\n",
    "\n",
    "#CXX= g++-4.8\n",
    "CXX=/usr/bin/g++\n",
    "#CXX= g++-5\n",
    "#CXX= clang++-3.4\n",
    "\n",
    "UNAME_S := $(shell uname -s)\n",
    "\n",
    "ifeq ($(UNAME_S),Darwin)\n",
    "    # macOS 不支持静态链接\n",
    "    STATIC_FLAG =\n",
    "    # macOS环境下将编译二进制文件的目录设置为上级目录的build文件夹\n",
    "    # 从而能够统一管理编译生成的二进制文件\n",
    "    BUILD_DIR = ../build\n",
    "else\n",
    "    # Linux 支持静态链接\n",
    "    STATIC_FLAG = -static\n",
    "    # Google Colab环境不需要特殊处理编译二进制文件的目录\n",
    "    BUILD_DIR = .\n",
    "endif\n",
    "\n",
    "# 给所有可执行文件添加编译后的目录前缀\n",
    "ALLEXE_WITH_DIR = $(addprefix ${BUILD_DIR}/,${ALLEXE})\n",
    "\n",
    "# 执行make时，默认执行的目标\n",
    "%:\t%.cpp\n",
    "\t@echo \"Compiling $@\"\n",
    "\t# 添加指定的二进制生成路径\n",
    "\t# g++ ${CXXFLAGS} -o ${BUILD_DIR}/$@ $? ${LOADLIBES}\n",
    "\t# @ ${BUILD_DIR}/$@\n",
    "\t${CXX} ${CXXFLAGS} -o ${BUILD_DIR}/$@ $? ${LOADLIBES} # -Wno-unused-but-set-variable\n",
    "\n",
    "# additional flags for binary installation of clang 3.3, shouldn't be needed :-!\n",
    "# CXXFLAGS+= -I/usr/local/clang+llvm-3.3/lib/c++/v1\n",
    "# LDFLAGS+= -nodefaultlibs -lstdc++ -lm -lc -lgcc_s -lgcc\n",
    "\n",
    "# For SDL 1.2\n",
    "# 加载SDL库\n",
    "SDL_FLAGS= -D_GNU_SOURCE=1 -D_REENTRANT -lSDL\n",
    "MTL_FLAGS= -I${MTL}\n",
    "\n",
    "default: ${ALLEXE}\n",
    "\t echo \"${BUGGY} -- ${ALLEXE}\"\n",
    "\n",
    "clean:\n",
    "\trm -rf ${ALLEXE_WITH_DIR}\n",
    "\n",
    "instance1:\tinstance1.cpp instance2.cpp\n",
    "\tclang++-3.4 ${CXXFLAGS} -o ${BUILD_DIR}/$@ $?\n",
    "\n",
    "mandelbrot:\tmandelbrot.cpp\n",
    "\t${CXX} -O3 -DNDEBUG -std=c++11 -o ${BUILD_DIR}/$@ $? ${SDL_FLAGS}\n",
    "\n",
    "julia:\tjulia.cpp\n",
    "\t${CXX} -O3 -DNDEBUG -std=c++11 -o ${BUILD_DIR}/$@ $? ${SDL_FLAGS}\n",
    "\n",
    "random_timing:\trandom_timing.cpp\n",
    "\t${CXX} -O3 -DNDEBUG -std=c++11 -o ${BUILD_DIR}/$@ $?\n",
    "\n",
    "mangling_example: mangling_example.cpp dings.o\n",
    "\t${CXX} -o ${BUILD_DIR}/$@ $?\n",
    "\n",
    "multiref_example: multiref1.cpp multiref2.cpp multiref.hpp\n",
    "\t${CXX} -o ${BUILD_DIR}/$@ multiref1.cpp multiref2.cpp\n",
    "\n",
    "fibonacci:  fibonacci.cpp\n",
    "\tg++ -std=c++0x -o ${BUILD_DIR}/$@ $?\n",
    "\n",
    "# hpp文件不用显示的添加到编译命令中\n",
    "poly: poly.cpp\n",
    "\t${CXX} -std=c++11 -o ${BUILD_DIR}/$@ $?\n",
    "\n",
    "# 用于打印Makefile信息的目标\n",
    "echo_info:\n",
    "\t@echo \"所有的编译后的可执行文件: ${ALLEXE}\""
   ]
  },
  {
   "cell_type": "code",
   "execution_count": null,
   "metadata": {},
   "outputs": [],
   "source": [
    "# 测试Makefile中的通配符规则\n",
    "# 这里使用sed命令将.cpp后缀去掉，得到可执行文件\n",
    "# !ls *.cpp | sed -e 's/\\.cpp//'\n",
    "# !export BUGGY='variadic_sum_left'\n",
    "# !echo ${BUGGY}\n",
    "# !ls *.cpp | sed -e 's/\\.cpp//'| grep -v ${BUGGY}"
   ]
  },
  {
   "cell_type": "markdown",
   "metadata": {
    "id": "szrnC-BPuJy-"
   },
   "source": [
    "### 尝试编译fibonacci.cpp文件"
   ]
  },
  {
   "cell_type": "code",
   "execution_count": null,
   "metadata": {
    "id": "HEBrm0DqteCI"
   },
   "outputs": [],
   "source": [
    "# !make\n",
    "# !make fibonacci\n",
    "# !make clean > /dev/null 2>&1\n",
    "# !make echo_info > make_info.txt"
   ]
  },
  {
   "cell_type": "code",
   "execution_count": null,
   "metadata": {
    "id": "BnbVsfC4tge5"
   },
   "outputs": [],
   "source": [
    "!./fibonacci 15"
   ]
  },
  {
   "cell_type": "markdown",
   "metadata": {},
   "source": [
    "### poly.cpp"
   ]
  },
  {
   "cell_type": "code",
   "execution_count": null,
   "metadata": {},
   "outputs": [],
   "source": [
    "# with open('poly.cpp', 'r') as f:\n",
    "#     lines = f.readlines()\n",
    "#     for line in lines[:10]:\n",
    "#         print(line.strip())\n",
    "\n",
    "# lines[4] = ''\n",
    "# # 写入文本文件内容的代码，通过python代码修改C++源代码\n",
    "# with open('poly2.cpp', 'w') as f:\n",
    "#     f.writelines(lines)"
   ]
  },
  {
   "cell_type": "code",
   "execution_count": null,
   "metadata": {},
   "outputs": [],
   "source": [
    "%%writefile poly.cpp\n",
    "// Bjarne p. 658  \n",
    "\n",
    "#include <iostream>\n",
    "#include <typeinfo>\n",
    "// 添加自定义的头文件路径地址: c++11/print_compiler.hpp\n",
    "// 这个头文件主要是用来打印当前环境的编译器信息\n",
    "#include \"print_compiler.hpp\"\n",
    "\n",
    "struct Poly {\n",
    "    virtual void f() {}\n",
    "};\n",
    "\n",
    "struct Non_poly {};\n",
    "\n",
    "struct D1\n",
    "  : Poly\n",
    "{};\n",
    "\n",
    "struct D2\n",
    "  : Non_poly\n",
    "{};\n",
    "\n",
    "void f(Non_poly& npr, Poly& pr)\n",
    "{\n",
    "    // 这里的npr和pr都是引用类型\n",
    "    std::cout << \"NPR NAME: \"<<typeid(npr).name() << '\\n' << std::endl;\n",
    "    std::cout << \"PR NAME: \"<<typeid(pr).name() << '\\n' << std::endl;\n",
    "    // 打印npr和pr的类型信息\n",
    "    // std::cout << \"NPR TYPE: \"<<typeid(npr).before(typeid(pr)) << '\\n';\n",
    "    // std::cout << \"PR TYPE: \"<<typeid(pr).before(typeid(npr)) << '\\n';\n",
    "    \n",
    "}\n",
    "\n",
    "int main (int argc, char* argv[]) \n",
    "{\n",
    "    // 打印当前编译器的版本信息\n",
    "    print_compiler();\n",
    "    D1 d1;\n",
    "    D2 d2;\n",
    "    \n",
    "    f(d2, d1);\n",
    "    // f(*static_cast<Poly*>(nullptr), *static_cast<Null_poly*>(nullptr));\n",
    "\n",
    "    return 0 ;\n",
    "}\n",
    "\n"
   ]
  },
  {
   "cell_type": "code",
   "execution_count": null,
   "metadata": {},
   "outputs": [],
   "source": [
    "!make poly"
   ]
  },
  {
   "cell_type": "code",
   "execution_count": null,
   "metadata": {},
   "outputs": [],
   "source": [
    "!../build/Poly"
   ]
  },
  {
   "cell_type": "markdown",
   "metadata": {},
   "source": [
    "尝试更加友好的类型名称显示"
   ]
  },
  {
   "cell_type": "code",
   "execution_count": null,
   "metadata": {},
   "outputs": [],
   "source": [
    "%%writefile poly.cpp\n",
    "// Bjarne p. 658  \n",
    "\n",
    "#include <iostream>\n",
    "#include <typeinfo>\n",
    "#include <cxxabi.h>\n",
    "// 添加自定义的头文件路径地址: c++11/print_compiler.hpp\n",
    "// 这个头文件主要是用来打印当前环境的编译器信息\n",
    "#include \"print_compiler.hpp\"\n",
    "\n",
    "struct Poly {\n",
    "    virtual void f() {}\n",
    "};\n",
    "\n",
    "struct Non_poly {};\n",
    "\n",
    "struct D1\n",
    "  : Poly\n",
    "{};\n",
    "\n",
    "struct D2\n",
    "  : Non_poly\n",
    "{};\n",
    "\n",
    "void f(Non_poly& npr, Poly& pr)\n",
    "{\n",
    "    // 这里的npr和pr都是引用类型\n",
    "    std::cout << \"NPR NAME: \"<<typeid(npr).name() << '\\n' << std::endl;\n",
    "    std::cout << \"PR NAME: \"<<typeid(pr).name() << '\\n' << std::endl;\n",
    "    // 更加友好的类型显示方式    \n",
    "    std::cout << \"使用cxxabi.h进行更加友好的类型显示方式: \" << std::endl;\n",
    "    std::cout << \"NPR NAME: \" << abi::__cxa_demangle(typeid(npr).name(), 0, 0, 0) << \"\\n\" << std::endl;\n",
    "    std::cout << \"PR NAME: \" << abi::__cxa_demangle(typeid(pr).name(), 0, 0, 0) << std::endl;\n",
    "\n",
    "}\n",
    "\n",
    "int main (int argc, char* argv[]) \n",
    "{\n",
    "    // 打印当前编译器的版本信息\n",
    "    print_compiler();\n",
    "    D1 d1;\n",
    "    D2 d2;\n",
    "    \n",
    "    f(d2, d1);\n",
    "    // f(*static_cast<Poly*>(nullptr), *static_cast<Null_poly*>(nullptr));\n",
    "\n",
    "    return 0 ;\n",
    "}\n",
    "\n"
   ]
  },
  {
   "cell_type": "markdown",
   "metadata": {
    "id": "GRY5FvlyvOUn"
   },
   "source": [
    "### 测试一个其他的Makefile文件中的构建内容"
   ]
  },
  {
   "cell_type": "code",
   "execution_count": null,
   "metadata": {
    "id": "WiBQTkkTuF-b"
   },
   "outputs": [],
   "source": [
    "!make julia"
   ]
  },
  {
   "cell_type": "code",
   "execution_count": null,
   "metadata": {
    "id": "Ac62Hb6BvU8I"
   },
   "outputs": [],
   "source": []
  }
 ],
 "metadata": {
  "colab": {
   "authorship_tag": "ABX9TyM1WtonAtyN643r8AhEfTQJ",
   "provenance": []
  },
  "kernelspec": {
   "display_name": "base",
   "language": "python",
   "name": "python3"
  },
  "language_info": {
   "codemirror_mode": {
    "name": "ipython",
    "version": 3
   },
   "file_extension": ".py",
   "mimetype": "text/x-python",
   "name": "python",
   "nbconvert_exporter": "python",
   "pygments_lexer": "ipython3",
   "version": "3.11.7"
  }
 },
 "nbformat": 4,
 "nbformat_minor": 0
}
